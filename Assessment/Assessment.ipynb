{
 "cells": [
  {
   "cell_type": "markdown",
   "id": "586181b3",
   "metadata": {},
   "source": [
    "### Importing Necessary Libraries:"
   ]
  },
  {
   "cell_type": "code",
   "execution_count": 1,
   "id": "5fe17ca6",
   "metadata": {},
   "outputs": [],
   "source": [
    "import numpy as np\n",
    "import pandas as pd\n",
    "import matplotlib.pyplot as plt\n",
    "import seaborn as sns\n",
    "from sklearn.model_selection import train_test_split\n",
    "from sklearn.linear_model import LogisticRegression\n",
    "from sklearn.tree import DecisionTreeClassifier\n",
    "from sklearn.ensemble import RandomForestClassifier\n",
    "from sklearn.ensemble import GradientBoostingClassifier\n",
    "from sklearn.ensemble import AdaBoostClassifier\n",
    "from scipy.stats import pearsonr\n",
    "import pickle\n",
    "import warnings\n",
    "warnings.filterwarnings(\"ignore\")"
   ]
  },
  {
   "cell_type": "markdown",
   "id": "7c510098",
   "metadata": {},
   "source": [
    "### Importing the dataset"
   ]
  },
  {
   "cell_type": "code",
   "execution_count": 2,
   "id": "1819455a",
   "metadata": {},
   "outputs": [],
   "source": [
    "df=pd.read_excel('Customer Raw data.xlsx',sheet_name='Unbxd Query performance')"
   ]
  },
  {
   "cell_type": "markdown",
   "id": "2bb447bc",
   "metadata": {},
   "source": [
    "### Displaying basic information about the dataset:"
   ]
  },
  {
   "cell_type": "code",
   "execution_count": 3,
   "id": "64adf1c8",
   "metadata": {
    "scrolled": true
   },
   "outputs": [
    {
     "data": {
      "text/html": [
       "<div>\n",
       "<style scoped>\n",
       "    .dataframe tbody tr th:only-of-type {\n",
       "        vertical-align: middle;\n",
       "    }\n",
       "\n",
       "    .dataframe tbody tr th {\n",
       "        vertical-align: top;\n",
       "    }\n",
       "\n",
       "    .dataframe thead th {\n",
       "        text-align: right;\n",
       "    }\n",
       "</style>\n",
       "<table border=\"1\" class=\"dataframe\">\n",
       "  <thead>\n",
       "    <tr style=\"text-align: right;\">\n",
       "      <th></th>\n",
       "      <th>query</th>\n",
       "      <th>hits</th>\n",
       "      <th>clicks</th>\n",
       "      <th>clickThroughs</th>\n",
       "      <th>ctr</th>\n",
       "      <th>carts</th>\n",
       "      <th>orders</th>\n",
       "    </tr>\n",
       "  </thead>\n",
       "  <tbody>\n",
       "    <tr>\n",
       "      <th>0</th>\n",
       "      <td>pink</td>\n",
       "      <td>3971</td>\n",
       "      <td>330</td>\n",
       "      <td>93</td>\n",
       "      <td>2.34</td>\n",
       "      <td>18</td>\n",
       "      <td>0</td>\n",
       "    </tr>\n",
       "    <tr>\n",
       "      <th>1</th>\n",
       "      <td>Chambray</td>\n",
       "      <td>612</td>\n",
       "      <td>1360</td>\n",
       "      <td>447</td>\n",
       "      <td>73.04</td>\n",
       "      <td>145</td>\n",
       "      <td>8</td>\n",
       "    </tr>\n",
       "    <tr>\n",
       "      <th>2</th>\n",
       "      <td>gingham in green and white</td>\n",
       "      <td>601</td>\n",
       "      <td>0</td>\n",
       "      <td>0</td>\n",
       "      <td>0.00</td>\n",
       "      <td>0</td>\n",
       "      <td>0</td>\n",
       "    </tr>\n",
       "    <tr>\n",
       "      <th>3</th>\n",
       "      <td>white dresses</td>\n",
       "      <td>486</td>\n",
       "      <td>800</td>\n",
       "      <td>310</td>\n",
       "      <td>63.79</td>\n",
       "      <td>73</td>\n",
       "      <td>1</td>\n",
       "    </tr>\n",
       "    <tr>\n",
       "      <th>4</th>\n",
       "      <td>grey</td>\n",
       "      <td>480</td>\n",
       "      <td>89</td>\n",
       "      <td>28</td>\n",
       "      <td>5.83</td>\n",
       "      <td>10</td>\n",
       "      <td>0</td>\n",
       "    </tr>\n",
       "  </tbody>\n",
       "</table>\n",
       "</div>"
      ],
      "text/plain": [
       "                        query  hits  clicks  clickThroughs    ctr  carts  \\\n",
       "0                       pink   3971     330             93   2.34     18   \n",
       "1                    Chambray   612    1360            447  73.04    145   \n",
       "2  gingham in green and white   601       0              0   0.00      0   \n",
       "3               white dresses   486     800            310  63.79     73   \n",
       "4                        grey   480      89             28   5.83     10   \n",
       "\n",
       "   orders  \n",
       "0       0  \n",
       "1       8  \n",
       "2       0  \n",
       "3       1  \n",
       "4       0  "
      ]
     },
     "execution_count": 3,
     "metadata": {},
     "output_type": "execute_result"
    }
   ],
   "source": [
    "df.head()"
   ]
  },
  {
   "cell_type": "code",
   "execution_count": 4,
   "id": "d1daa430",
   "metadata": {},
   "outputs": [
    {
     "data": {
      "text/plain": [
       "(500, 7)"
      ]
     },
     "execution_count": 4,
     "metadata": {},
     "output_type": "execute_result"
    }
   ],
   "source": [
    "df.shape"
   ]
  },
  {
   "cell_type": "code",
   "execution_count": 5,
   "id": "23306e4c",
   "metadata": {
    "scrolled": true
   },
   "outputs": [
    {
     "name": "stdout",
     "output_type": "stream",
     "text": [
      "<class 'pandas.core.frame.DataFrame'>\n",
      "RangeIndex: 500 entries, 0 to 499\n",
      "Data columns (total 7 columns):\n",
      " #   Column         Non-Null Count  Dtype  \n",
      "---  ------         --------------  -----  \n",
      " 0   query          500 non-null    object \n",
      " 1   hits           500 non-null    int64  \n",
      " 2   clicks         500 non-null    int64  \n",
      " 3   clickThroughs  500 non-null    int64  \n",
      " 4   ctr            500 non-null    float64\n",
      " 5   carts          500 non-null    int64  \n",
      " 6   orders         500 non-null    int64  \n",
      "dtypes: float64(1), int64(5), object(1)\n",
      "memory usage: 27.5+ KB\n"
     ]
    }
   ],
   "source": [
    "df.info()"
   ]
  },
  {
   "cell_type": "code",
   "execution_count": 6,
   "id": "e0afe34e",
   "metadata": {
    "scrolled": true
   },
   "outputs": [
    {
     "data": {
      "text/html": [
       "<div>\n",
       "<style scoped>\n",
       "    .dataframe tbody tr th:only-of-type {\n",
       "        vertical-align: middle;\n",
       "    }\n",
       "\n",
       "    .dataframe tbody tr th {\n",
       "        vertical-align: top;\n",
       "    }\n",
       "\n",
       "    .dataframe thead th {\n",
       "        text-align: right;\n",
       "    }\n",
       "</style>\n",
       "<table border=\"1\" class=\"dataframe\">\n",
       "  <thead>\n",
       "    <tr style=\"text-align: right;\">\n",
       "      <th></th>\n",
       "      <th>count</th>\n",
       "      <th>mean</th>\n",
       "      <th>std</th>\n",
       "      <th>min</th>\n",
       "      <th>25%</th>\n",
       "      <th>50%</th>\n",
       "      <th>75%</th>\n",
       "      <th>max</th>\n",
       "    </tr>\n",
       "  </thead>\n",
       "  <tbody>\n",
       "    <tr>\n",
       "      <th>hits</th>\n",
       "      <td>500.0</td>\n",
       "      <td>61.670</td>\n",
       "      <td>191.192464</td>\n",
       "      <td>14.0</td>\n",
       "      <td>19.00</td>\n",
       "      <td>26.00</td>\n",
       "      <td>50.00</td>\n",
       "      <td>3971.0</td>\n",
       "    </tr>\n",
       "    <tr>\n",
       "      <th>clicks</th>\n",
       "      <td>500.0</td>\n",
       "      <td>99.620</td>\n",
       "      <td>143.261157</td>\n",
       "      <td>0.0</td>\n",
       "      <td>27.00</td>\n",
       "      <td>49.00</td>\n",
       "      <td>106.00</td>\n",
       "      <td>1360.0</td>\n",
       "    </tr>\n",
       "    <tr>\n",
       "      <th>clickThroughs</th>\n",
       "      <td>500.0</td>\n",
       "      <td>30.638</td>\n",
       "      <td>45.390523</td>\n",
       "      <td>0.0</td>\n",
       "      <td>10.00</td>\n",
       "      <td>15.00</td>\n",
       "      <td>29.00</td>\n",
       "      <td>447.0</td>\n",
       "    </tr>\n",
       "    <tr>\n",
       "      <th>ctr</th>\n",
       "      <td>500.0</td>\n",
       "      <td>56.634</td>\n",
       "      <td>19.599160</td>\n",
       "      <td>0.0</td>\n",
       "      <td>42.86</td>\n",
       "      <td>60.87</td>\n",
       "      <td>71.43</td>\n",
       "      <td>100.0</td>\n",
       "    </tr>\n",
       "    <tr>\n",
       "      <th>carts</th>\n",
       "      <td>500.0</td>\n",
       "      <td>16.276</td>\n",
       "      <td>62.749620</td>\n",
       "      <td>0.0</td>\n",
       "      <td>2.00</td>\n",
       "      <td>6.00</td>\n",
       "      <td>16.00</td>\n",
       "      <td>1330.0</td>\n",
       "    </tr>\n",
       "    <tr>\n",
       "      <th>orders</th>\n",
       "      <td>500.0</td>\n",
       "      <td>0.622</td>\n",
       "      <td>1.357498</td>\n",
       "      <td>0.0</td>\n",
       "      <td>0.00</td>\n",
       "      <td>0.00</td>\n",
       "      <td>1.00</td>\n",
       "      <td>13.0</td>\n",
       "    </tr>\n",
       "  </tbody>\n",
       "</table>\n",
       "</div>"
      ],
      "text/plain": [
       "               count    mean         std   min    25%    50%     75%     max\n",
       "hits           500.0  61.670  191.192464  14.0  19.00  26.00   50.00  3971.0\n",
       "clicks         500.0  99.620  143.261157   0.0  27.00  49.00  106.00  1360.0\n",
       "clickThroughs  500.0  30.638   45.390523   0.0  10.00  15.00   29.00   447.0\n",
       "ctr            500.0  56.634   19.599160   0.0  42.86  60.87   71.43   100.0\n",
       "carts          500.0  16.276   62.749620   0.0   2.00   6.00   16.00  1330.0\n",
       "orders         500.0   0.622    1.357498   0.0   0.00   0.00    1.00    13.0"
      ]
     },
     "execution_count": 6,
     "metadata": {},
     "output_type": "execute_result"
    }
   ],
   "source": [
    "df.describe().transpose()"
   ]
  },
  {
   "cell_type": "markdown",
   "id": "01f982c0",
   "metadata": {},
   "source": [
    "### Checking for null values:"
   ]
  },
  {
   "cell_type": "code",
   "execution_count": 7,
   "id": "bad0a711",
   "metadata": {},
   "outputs": [
    {
     "data": {
      "text/plain": [
       "query            0\n",
       "hits             0\n",
       "clicks           0\n",
       "clickThroughs    0\n",
       "ctr              0\n",
       "carts            0\n",
       "orders           0\n",
       "dtype: int64"
      ]
     },
     "execution_count": 7,
     "metadata": {},
     "output_type": "execute_result"
    }
   ],
   "source": [
    "df.isnull().sum()"
   ]
  },
  {
   "cell_type": "code",
   "execution_count": 8,
   "id": "d4645a8d",
   "metadata": {},
   "outputs": [
    {
     "data": {
      "text/plain": [
       "500"
      ]
     },
     "execution_count": 8,
     "metadata": {},
     "output_type": "execute_result"
    }
   ],
   "source": [
    "df['query'].nunique()"
   ]
  },
  {
   "cell_type": "code",
   "execution_count": 9,
   "id": "a291a885",
   "metadata": {},
   "outputs": [
    {
     "data": {
      "text/plain": [
       "11"
      ]
     },
     "execution_count": 9,
     "metadata": {},
     "output_type": "execute_result"
    }
   ],
   "source": [
    "df['orders'].nunique()"
   ]
  },
  {
   "cell_type": "code",
   "execution_count": 10,
   "id": "801e977b",
   "metadata": {
    "scrolled": true
   },
   "outputs": [
    {
     "data": {
      "text/html": [
       "<div>\n",
       "<style scoped>\n",
       "    .dataframe tbody tr th:only-of-type {\n",
       "        vertical-align: middle;\n",
       "    }\n",
       "\n",
       "    .dataframe tbody tr th {\n",
       "        vertical-align: top;\n",
       "    }\n",
       "\n",
       "    .dataframe thead th {\n",
       "        text-align: right;\n",
       "    }\n",
       "</style>\n",
       "<table border=\"1\" class=\"dataframe\">\n",
       "  <thead>\n",
       "    <tr style=\"text-align: right;\">\n",
       "      <th></th>\n",
       "      <th>hits</th>\n",
       "      <th>clicks</th>\n",
       "      <th>clickThroughs</th>\n",
       "      <th>ctr</th>\n",
       "      <th>carts</th>\n",
       "      <th>orders</th>\n",
       "    </tr>\n",
       "  </thead>\n",
       "  <tbody>\n",
       "    <tr>\n",
       "      <th>hits</th>\n",
       "      <td>1.000000</td>\n",
       "      <td>0.392647</td>\n",
       "      <td>0.395261</td>\n",
       "      <td>-0.114670</td>\n",
       "      <td>0.071855</td>\n",
       "      <td>0.166429</td>\n",
       "    </tr>\n",
       "    <tr>\n",
       "      <th>clicks</th>\n",
       "      <td>0.392647</td>\n",
       "      <td>1.000000</td>\n",
       "      <td>0.960224</td>\n",
       "      <td>0.234909</td>\n",
       "      <td>0.249199</td>\n",
       "      <td>0.564942</td>\n",
       "    </tr>\n",
       "    <tr>\n",
       "      <th>clickThroughs</th>\n",
       "      <td>0.395261</td>\n",
       "      <td>0.960224</td>\n",
       "      <td>1.000000</td>\n",
       "      <td>0.249364</td>\n",
       "      <td>0.214433</td>\n",
       "      <td>0.572072</td>\n",
       "    </tr>\n",
       "    <tr>\n",
       "      <th>ctr</th>\n",
       "      <td>-0.114670</td>\n",
       "      <td>0.234909</td>\n",
       "      <td>0.249364</td>\n",
       "      <td>1.000000</td>\n",
       "      <td>0.056118</td>\n",
       "      <td>0.145883</td>\n",
       "    </tr>\n",
       "    <tr>\n",
       "      <th>carts</th>\n",
       "      <td>0.071855</td>\n",
       "      <td>0.249199</td>\n",
       "      <td>0.214433</td>\n",
       "      <td>0.056118</td>\n",
       "      <td>1.000000</td>\n",
       "      <td>0.159887</td>\n",
       "    </tr>\n",
       "    <tr>\n",
       "      <th>orders</th>\n",
       "      <td>0.166429</td>\n",
       "      <td>0.564942</td>\n",
       "      <td>0.572072</td>\n",
       "      <td>0.145883</td>\n",
       "      <td>0.159887</td>\n",
       "      <td>1.000000</td>\n",
       "    </tr>\n",
       "  </tbody>\n",
       "</table>\n",
       "</div>"
      ],
      "text/plain": [
       "                   hits    clicks  clickThroughs       ctr     carts    orders\n",
       "hits           1.000000  0.392647       0.395261 -0.114670  0.071855  0.166429\n",
       "clicks         0.392647  1.000000       0.960224  0.234909  0.249199  0.564942\n",
       "clickThroughs  0.395261  0.960224       1.000000  0.249364  0.214433  0.572072\n",
       "ctr           -0.114670  0.234909       0.249364  1.000000  0.056118  0.145883\n",
       "carts          0.071855  0.249199       0.214433  0.056118  1.000000  0.159887\n",
       "orders         0.166429  0.564942       0.572072  0.145883  0.159887  1.000000"
      ]
     },
     "execution_count": 10,
     "metadata": {},
     "output_type": "execute_result"
    }
   ],
   "source": [
    "df.corr()"
   ]
  },
  {
   "cell_type": "markdown",
   "id": "31a78eb6",
   "metadata": {},
   "source": [
    "### From this heatmap of correlation we can understand how each variable is linearly related to another variable\n",
    "\n",
    "### It is cause and effect."
   ]
  },
  {
   "cell_type": "code",
   "execution_count": 11,
   "id": "810a1de9",
   "metadata": {},
   "outputs": [
    {
     "data": {
      "text/plain": [
       "<AxesSubplot:>"
      ]
     },
     "execution_count": 11,
     "metadata": {},
     "output_type": "execute_result"
    },
    {
     "data": {
      "image/png": "[encoded data removed]",
      "text/plain": [
       "<Figure size 1080x576 with 2 Axes>"
      ]
     },
     "metadata": {
      "needs_background": "light"
     },
     "output_type": "display_data"
    }
   ],
   "source": [
    "plt.figure(figsize=(15,8))\n",
    "sns.heatmap(data=df.corr(),annot=True,cmap='Reds')"
   ]
  },
  {
   "cell_type": "markdown",
   "id": "49c98ae4",
   "metadata": {},
   "source": [
    "### A histogram is basically used as accurate method for the graphical representation of numerical data distribution."
   ]
  },
  {
   "cell_type": "code",
   "execution_count": 12,
   "id": "b66e1d3a",
   "metadata": {
    "scrolled": true
   },
   "outputs": [
    {
     "data": {
      "image/png": "[encoded data removed]",
      "text/plain": [
       "<Figure size 864x288 with 2 Axes>"
      ]
     },
     "metadata": {
      "needs_background": "light"
     },
     "output_type": "display_data"
    }
   ],
   "source": [
    "# plt.figure(figsize=(12,8))\n",
    "# sns.histplot(df['clicks'],bins=28, edgecolor='k')\n",
    "\n",
    "fig, ax = plt.subplots(nrows=1, ncols=2, figsize=(12,4))\n",
    "\n",
    "ax[0].hist(df['clicks'], bins=28, edgecolor='k')\n",
    "ax[0].set_title('Clicks histogram')\n",
    "    \n",
    "ax[1].hist(df['clickThroughs'], bins=28, color = 'red', edgecolor='k')\n",
    "ax[1].set_title('clickThroughs histogram');"
   ]
  },
  {
   "cell_type": "code",
   "execution_count": 13,
   "id": "cc98d71d",
   "metadata": {},
   "outputs": [
    {
     "data": {
      "image/png": "[encoded data removed]",
      "text/plain": [
       "<Figure size 864x288 with 2 Axes>"
      ]
     },
     "metadata": {
      "needs_background": "light"
     },
     "output_type": "display_data"
    }
   ],
   "source": [
    "fig, ax = plt.subplots(nrows=1, ncols=2, figsize=(12,4))\n",
    "\n",
    "ax[0].hist(df['ctr'], bins=28, edgecolor='k')\n",
    "ax[0].set_title('ctr histogram')\n",
    "    \n",
    "ax[1].hist(df['carts'], bins=28, color = 'red', edgecolor='k', density=True)\n",
    "ax[1].set_title('carts histogram');"
   ]
  },
  {
   "cell_type": "code",
   "execution_count": 14,
   "id": "17634b53",
   "metadata": {},
   "outputs": [
    {
     "data": {
      "image/png": "[encoded data removed]",
      "text/plain": [
       "<Figure size 864x288 with 2 Axes>"
      ]
     },
     "metadata": {
      "needs_background": "light"
     },
     "output_type": "display_data"
    }
   ],
   "source": [
    "fig, ax = plt.subplots(nrows=1, ncols=2, figsize=(12,4))\n",
    "\n",
    "ax[0].hist(df['orders'], bins=28, edgecolor='k')\n",
    "ax[0].set_title('orders histogram')\n",
    "    \n",
    "ax[1].hist(df['hits'], bins=28, color = 'red', edgecolor='k')\n",
    "ax[1].set_title('hits histogram');"
   ]
  },
  {
   "cell_type": "code",
   "execution_count": 15,
   "id": "9423c3b6",
   "metadata": {},
   "outputs": [],
   "source": [
    "from sklearn import preprocessing\n",
    "min_max_scaler = preprocessing.MinMaxScaler()\n",
    "temp_df = min_max_scaler.fit_transform(df.drop(['query','orders'],axis=1))\n",
    "temp_df=pd.DataFrame(temp_df)"
   ]
  },
  {
   "cell_type": "code",
   "execution_count": 16,
   "id": "0a9f539d",
   "metadata": {},
   "outputs": [],
   "source": [
    "temp_df.rename({0:'hits',1:'clicks',2:'clickThroughs',3:'ctr',4:'carts'},axis=1,inplace=True)"
   ]
  },
  {
   "cell_type": "markdown",
   "id": "8c192eee",
   "metadata": {},
   "source": [
    "### Scatter plot for Linearity check"
   ]
  },
  {
   "cell_type": "code",
   "execution_count": 17,
   "id": "ec5edf64",
   "metadata": {
    "scrolled": false
   },
   "outputs": [
    {
     "name": "stdout",
     "output_type": "stream",
     "text": [
      "Orders vs hits\n"
     ]
    },
    {
     "data": {
      "image/png": "[encoded data removed]",
      "text/plain": [
       "<Figure size 432x288 with 1 Axes>"
      ]
     },
     "metadata": {
      "needs_background": "light"
     },
     "output_type": "display_data"
    },
    {
     "name": "stdout",
     "output_type": "stream",
     "text": [
      "Orders vs clicks\n"
     ]
    },
    {
     "data": {
      "image/png": "[encoded data removed]",
      "text/plain": [
       "<Figure size 432x288 with 1 Axes>"
      ]
     },
     "metadata": {
      "needs_background": "light"
     },
     "output_type": "display_data"
    },
    {
     "name": "stdout",
     "output_type": "stream",
     "text": [
      "Orders vs clickThroughs\n"
     ]
    },
    {
     "data": {
      "image/png": "[encoded data removed]",
      "text/plain": [
       "<Figure size 432x288 with 1 Axes>"
      ]
     },
     "metadata": {
      "needs_background": "light"
     },
     "output_type": "display_data"
    },
    {
     "name": "stdout",
     "output_type": "stream",
     "text": [
      "Orders vs ctr\n"
     ]
    },
    {
     "data": {
      "image/png": "[encoded data removed]",
      "text/plain": [
       "<Figure size 432x288 with 1 Axes>"
      ]
     },
     "metadata": {
      "needs_background": "light"
     },
     "output_type": "display_data"
    },
    {
     "name": "stdout",
     "output_type": "stream",
     "text": [
      "Orders vs carts\n"
     ]
    },
    {
     "data": {
      "image/png": "[encoded data removed]",
      "text/plain": [
       "<Figure size 432x288 with 1 Axes>"
      ]
     },
     "metadata": {
      "needs_background": "light"
     },
     "output_type": "display_data"
    }
   ],
   "source": [
    "for i in df.columns.drop(['query','orders']):\n",
    "        print(\"Orders vs\",i)\n",
    "        sns.scatterplot(data=df,x=df['orders'],y=df[i])\n",
    "        plt.show()"
   ]
  },
  {
   "cell_type": "markdown",
   "id": "60992f27",
   "metadata": {},
   "source": [
    "### Kernel density estimation (KDE)\n",
    "\n",
    "#### From this we can understand whether we are handling right skewed or left skewed or normalized data\n",
    "\n",
    "#### So according to that we can make it model ready"
   ]
  },
  {
   "cell_type": "code",
   "execution_count": 18,
   "id": "7704fc1d",
   "metadata": {
    "scrolled": true
   },
   "outputs": [
    {
     "data": {
      "text/plain": [
       "<AxesSubplot:xlabel='clicks', ylabel='Density'>"
      ]
     },
     "execution_count": 18,
     "metadata": {},
     "output_type": "execute_result"
    },
    {
     "data": {
      "image/png": "[encoded data removed]",
      "text/plain": [
       "<Figure size 864x288 with 2 Axes>"
      ]
     },
     "metadata": {
      "needs_background": "light"
     },
     "output_type": "display_data"
    }
   ],
   "source": [
    "fig, ax = plt.subplots(nrows=1, ncols=2, figsize=(12,4))\n",
    "sns.kdeplot(df['hits'],ax=ax[0])\n",
    "sns.kdeplot(df['clicks'],ax=ax[1])"
   ]
  },
  {
   "cell_type": "code",
   "execution_count": 19,
   "id": "9188f553",
   "metadata": {},
   "outputs": [
    {
     "data": {
      "text/plain": [
       "<AxesSubplot:xlabel='ctr', ylabel='Density'>"
      ]
     },
     "execution_count": 19,
     "metadata": {},
     "output_type": "execute_result"
    },
    {
     "data": {
      "image/png": "[encoded data removed]",
      "text/plain": [
       "<Figure size 864x288 with 2 Axes>"
      ]
     },
     "metadata": {
      "needs_background": "light"
     },
     "output_type": "display_data"
    }
   ],
   "source": [
    "fig, ax = plt.subplots(nrows=1, ncols=2, figsize=(12,4))\n",
    "sns.kdeplot(df['clickThroughs'],ax=ax[0])\n",
    "sns.kdeplot(df['ctr'],ax=ax[1])"
   ]
  },
  {
   "cell_type": "code",
   "execution_count": 20,
   "id": "089b7e2d",
   "metadata": {
    "scrolled": false
   },
   "outputs": [
    {
     "data": {
      "text/plain": [
       "<AxesSubplot:xlabel='orders', ylabel='Density'>"
      ]
     },
     "execution_count": 20,
     "metadata": {},
     "output_type": "execute_result"
    },
    {
     "data": {
      "image/png": "[encoded data removed]",
      "text/plain": [
       "<Figure size 864x288 with 2 Axes>"
      ]
     },
     "metadata": {
      "needs_background": "light"
     },
     "output_type": "display_data"
    }
   ],
   "source": [
    "fig, ax = plt.subplots(nrows=1, ncols=2, figsize=(12,4))\n",
    "sns.kdeplot(df['carts'],ax=ax[0])\n",
    "sns.kdeplot(df['orders'],ax=ax[1])"
   ]
  },
  {
   "cell_type": "markdown",
   "id": "777b4d1d",
   "metadata": {},
   "source": [
    "### Insights of  \"order\" is driven since it is the target variable of the dataset"
   ]
  },
  {
   "cell_type": "code",
   "execution_count": 21,
   "id": "4e724788",
   "metadata": {},
   "outputs": [
    {
     "name": "stdout",
     "output_type": "stream",
     "text": [
      "Unique values of order variable of dataset : [0, 1, 2, 3, 4, 5, 6, 7, 8, 9, 13]\n"
     ]
    }
   ],
   "source": [
    "l = []\n",
    "for i in df['orders'].unique():\n",
    "    l.append(i)\n",
    "l.sort()\n",
    "print('Unique values of order variable of dataset :',l)"
   ]
  },
  {
   "cell_type": "code",
   "execution_count": 22,
   "id": "ea65181d",
   "metadata": {
    "scrolled": false
   },
   "outputs": [
    {
     "data": {
      "text/plain": [
       "<AxesSubplot:xlabel='orders', ylabel='count'>"
      ]
     },
     "execution_count": 22,
     "metadata": {},
     "output_type": "execute_result"
    },
    {
     "data": {
      "image/png": "[encoded data removed]",
      "text/plain": [
       "<Figure size 720x432 with 1 Axes>"
      ]
     },
     "metadata": {
      "needs_background": "light"
     },
     "output_type": "display_data"
    }
   ],
   "source": [
    "plt.figure(figsize=(10,6))\n",
    "sns.countplot(df['orders'],palette='husl')"
   ]
  },
  {
   "cell_type": "code",
   "execution_count": 23,
   "id": "524df939",
   "metadata": {},
   "outputs": [
    {
     "data": {
      "text/plain": [
       "0     348\n",
       "1      85\n",
       "2      30\n",
       "3      17\n",
       "5       7\n",
       "4       6\n",
       "7       2\n",
       "6       2\n",
       "8       1\n",
       "13      1\n",
       "9       1\n",
       "Name: orders, dtype: int64"
      ]
     },
     "execution_count": 23,
     "metadata": {},
     "output_type": "execute_result"
    }
   ],
   "source": [
    "df['orders'].value_counts()"
   ]
  },
  {
   "cell_type": "code",
   "execution_count": 24,
   "id": "c6277b82",
   "metadata": {},
   "outputs": [
    {
     "data": {
      "text/html": [
       "<div>\n",
       "<style scoped>\n",
       "    .dataframe tbody tr th:only-of-type {\n",
       "        vertical-align: middle;\n",
       "    }\n",
       "\n",
       "    .dataframe tbody tr th {\n",
       "        vertical-align: top;\n",
       "    }\n",
       "\n",
       "    .dataframe thead th {\n",
       "        text-align: right;\n",
       "    }\n",
       "</style>\n",
       "<table border=\"1\" class=\"dataframe\">\n",
       "  <thead>\n",
       "    <tr style=\"text-align: right;\">\n",
       "      <th></th>\n",
       "      <th>hits</th>\n",
       "      <th>clicks</th>\n",
       "      <th>clickThroughs</th>\n",
       "      <th>ctr</th>\n",
       "      <th>carts</th>\n",
       "    </tr>\n",
       "  </thead>\n",
       "  <tbody>\n",
       "    <tr>\n",
       "      <th>0</th>\n",
       "      <td>1.000000</td>\n",
       "      <td>0.242647</td>\n",
       "      <td>0.208054</td>\n",
       "      <td>0.0234</td>\n",
       "      <td>0.013534</td>\n",
       "    </tr>\n",
       "    <tr>\n",
       "      <th>1</th>\n",
       "      <td>0.151125</td>\n",
       "      <td>1.000000</td>\n",
       "      <td>1.000000</td>\n",
       "      <td>0.7304</td>\n",
       "      <td>0.109023</td>\n",
       "    </tr>\n",
       "    <tr>\n",
       "      <th>2</th>\n",
       "      <td>0.148345</td>\n",
       "      <td>0.000000</td>\n",
       "      <td>0.000000</td>\n",
       "      <td>0.0000</td>\n",
       "      <td>0.000000</td>\n",
       "    </tr>\n",
       "    <tr>\n",
       "      <th>3</th>\n",
       "      <td>0.119282</td>\n",
       "      <td>0.588235</td>\n",
       "      <td>0.693512</td>\n",
       "      <td>0.6379</td>\n",
       "      <td>0.054887</td>\n",
       "    </tr>\n",
       "    <tr>\n",
       "      <th>4</th>\n",
       "      <td>0.117766</td>\n",
       "      <td>0.065441</td>\n",
       "      <td>0.062640</td>\n",
       "      <td>0.0583</td>\n",
       "      <td>0.007519</td>\n",
       "    </tr>\n",
       "    <tr>\n",
       "      <th>...</th>\n",
       "      <td>...</td>\n",
       "      <td>...</td>\n",
       "      <td>...</td>\n",
       "      <td>...</td>\n",
       "      <td>...</td>\n",
       "    </tr>\n",
       "    <tr>\n",
       "      <th>495</th>\n",
       "      <td>0.000000</td>\n",
       "      <td>0.008824</td>\n",
       "      <td>0.013423</td>\n",
       "      <td>0.4286</td>\n",
       "      <td>0.000000</td>\n",
       "    </tr>\n",
       "    <tr>\n",
       "      <th>496</th>\n",
       "      <td>0.000000</td>\n",
       "      <td>0.019853</td>\n",
       "      <td>0.015660</td>\n",
       "      <td>0.5000</td>\n",
       "      <td>0.003008</td>\n",
       "    </tr>\n",
       "    <tr>\n",
       "      <th>497</th>\n",
       "      <td>0.000000</td>\n",
       "      <td>0.005882</td>\n",
       "      <td>0.008949</td>\n",
       "      <td>0.2857</td>\n",
       "      <td>0.003008</td>\n",
       "    </tr>\n",
       "    <tr>\n",
       "      <th>498</th>\n",
       "      <td>0.000000</td>\n",
       "      <td>0.013971</td>\n",
       "      <td>0.011186</td>\n",
       "      <td>0.3571</td>\n",
       "      <td>0.006015</td>\n",
       "    </tr>\n",
       "    <tr>\n",
       "      <th>499</th>\n",
       "      <td>0.000000</td>\n",
       "      <td>0.019853</td>\n",
       "      <td>0.020134</td>\n",
       "      <td>0.6429</td>\n",
       "      <td>0.000000</td>\n",
       "    </tr>\n",
       "  </tbody>\n",
       "</table>\n",
       "<p>500 rows × 5 columns</p>\n",
       "</div>"
      ],
      "text/plain": [
       "         hits    clicks  clickThroughs     ctr     carts\n",
       "0    1.000000  0.242647       0.208054  0.0234  0.013534\n",
       "1    0.151125  1.000000       1.000000  0.7304  0.109023\n",
       "2    0.148345  0.000000       0.000000  0.0000  0.000000\n",
       "3    0.119282  0.588235       0.693512  0.6379  0.054887\n",
       "4    0.117766  0.065441       0.062640  0.0583  0.007519\n",
       "..        ...       ...            ...     ...       ...\n",
       "495  0.000000  0.008824       0.013423  0.4286  0.000000\n",
       "496  0.000000  0.019853       0.015660  0.5000  0.003008\n",
       "497  0.000000  0.005882       0.008949  0.2857  0.003008\n",
       "498  0.000000  0.013971       0.011186  0.3571  0.006015\n",
       "499  0.000000  0.019853       0.020134  0.6429  0.000000\n",
       "\n",
       "[500 rows x 5 columns]"
      ]
     },
     "execution_count": 24,
     "metadata": {},
     "output_type": "execute_result"
    }
   ],
   "source": [
    "temp_df"
   ]
  },
  {
   "cell_type": "code",
   "execution_count": 25,
   "id": "6195f150",
   "metadata": {},
   "outputs": [],
   "source": [
    "df['orders'] = df['orders'].astype(str)"
   ]
  },
  {
   "cell_type": "code",
   "execution_count": 26,
   "id": "0f1e2d6e",
   "metadata": {},
   "outputs": [],
   "source": [
    "x = temp_df\n",
    "y = df['orders']\n",
    "train_x,test_x,train_y,test_y = train_test_split(x,y,test_size=0.2,random_state=42)"
   ]
  },
  {
   "cell_type": "markdown",
   "id": "45ad9df4",
   "metadata": {},
   "source": [
    "### Logistic Regression"
   ]
  },
  {
   "cell_type": "code",
   "execution_count": 27,
   "id": "a7a0374f",
   "metadata": {},
   "outputs": [
    {
     "data": {
      "text/plain": [
       "LogisticRegression(random_state=42)"
      ]
     },
     "execution_count": 27,
     "metadata": {},
     "output_type": "execute_result"
    }
   ],
   "source": [
    "model = LogisticRegression(random_state=42)\n",
    "model.fit(train_x, train_y)"
   ]
  },
  {
   "cell_type": "code",
   "execution_count": 28,
   "id": "96ede5d9",
   "metadata": {},
   "outputs": [
    {
     "data": {
      "text/plain": [
       "0.685"
      ]
     },
     "execution_count": 28,
     "metadata": {},
     "output_type": "execute_result"
    }
   ],
   "source": [
    "model.score(train_x,train_y)"
   ]
  },
  {
   "cell_type": "code",
   "execution_count": 29,
   "id": "587fbe79",
   "metadata": {},
   "outputs": [
    {
     "data": {
      "text/plain": [
       "0.78"
      ]
     },
     "execution_count": 29,
     "metadata": {},
     "output_type": "execute_result"
    }
   ],
   "source": [
    "model.score(test_x,test_y)"
   ]
  },
  {
   "cell_type": "markdown",
   "id": "db2c573b",
   "metadata": {},
   "source": [
    "### Decision Tree Classifier"
   ]
  },
  {
   "cell_type": "code",
   "execution_count": 30,
   "id": "2127202c",
   "metadata": {},
   "outputs": [
    {
     "data": {
      "text/plain": [
       "DecisionTreeClassifier(random_state=42)"
      ]
     },
     "execution_count": 30,
     "metadata": {},
     "output_type": "execute_result"
    }
   ],
   "source": [
    "modeldtc = DecisionTreeClassifier(random_state=42)\n",
    "modeldtc.fit(train_x,train_y)"
   ]
  },
  {
   "cell_type": "markdown",
   "id": "f74a4d02",
   "metadata": {},
   "source": [
    "#### Overfitting in this point"
   ]
  },
  {
   "cell_type": "code",
   "execution_count": 31,
   "id": "6eb21af5",
   "metadata": {},
   "outputs": [
    {
     "data": {
      "text/plain": [
       "1.0"
      ]
     },
     "execution_count": 31,
     "metadata": {},
     "output_type": "execute_result"
    }
   ],
   "source": [
    "modeldtc.score(train_x,train_y)"
   ]
  },
  {
   "cell_type": "code",
   "execution_count": 32,
   "id": "b12fd0ee",
   "metadata": {},
   "outputs": [
    {
     "data": {
      "text/plain": [
       "0.61"
      ]
     },
     "execution_count": 32,
     "metadata": {},
     "output_type": "execute_result"
    }
   ],
   "source": [
    "modeldtc.score(test_x,test_y)"
   ]
  },
  {
   "cell_type": "markdown",
   "id": "38e5acf6",
   "metadata": {},
   "source": [
    "### Random Forest Classifier"
   ]
  },
  {
   "cell_type": "code",
   "execution_count": 33,
   "id": "7e30a9d1",
   "metadata": {},
   "outputs": [
    {
     "data": {
      "text/plain": [
       "RandomForestClassifier(max_depth=6, random_state=42)"
      ]
     },
     "execution_count": 33,
     "metadata": {},
     "output_type": "execute_result"
    }
   ],
   "source": [
    "modelrfc = RandomForestClassifier(max_depth=6, random_state=42)\n",
    "modelrfc.fit(train_x,train_y)"
   ]
  },
  {
   "cell_type": "code",
   "execution_count": 34,
   "id": "cbb0969e",
   "metadata": {},
   "outputs": [
    {
     "data": {
      "text/plain": [
       "0.8325"
      ]
     },
     "execution_count": 34,
     "metadata": {},
     "output_type": "execute_result"
    }
   ],
   "source": [
    "modelrfc.score(train_x,train_y)"
   ]
  },
  {
   "cell_type": "code",
   "execution_count": 35,
   "id": "f7ff2830",
   "metadata": {},
   "outputs": [
    {
     "data": {
      "text/plain": [
       "0.76"
      ]
     },
     "execution_count": 35,
     "metadata": {},
     "output_type": "execute_result"
    }
   ],
   "source": [
    "modelrfc.score(test_x,test_y)"
   ]
  },
  {
   "cell_type": "markdown",
   "id": "fe62c709",
   "metadata": {},
   "source": [
    "### Gradient Boosting Algorithm"
   ]
  },
  {
   "cell_type": "code",
   "execution_count": 36,
   "id": "3906cdee",
   "metadata": {},
   "outputs": [
    {
     "data": {
      "text/plain": [
       "GradientBoostingClassifier(learning_rate=1.0, max_depth=12, random_state=0)"
      ]
     },
     "execution_count": 36,
     "metadata": {},
     "output_type": "execute_result"
    }
   ],
   "source": [
    "modelgbc = GradientBoostingClassifier(n_estimators=100, learning_rate=1.0,max_depth=12, random_state=0)\n",
    "modelgbc.fit(train_x, train_y)"
   ]
  },
  {
   "cell_type": "code",
   "execution_count": 37,
   "id": "711772b4",
   "metadata": {},
   "outputs": [
    {
     "data": {
      "text/plain": [
       "1.0"
      ]
     },
     "execution_count": 37,
     "metadata": {},
     "output_type": "execute_result"
    }
   ],
   "source": [
    "modelgbc.score(train_x,train_y)"
   ]
  },
  {
   "cell_type": "code",
   "execution_count": 38,
   "id": "00be6c0d",
   "metadata": {},
   "outputs": [
    {
     "data": {
      "text/plain": [
       "0.67"
      ]
     },
     "execution_count": 38,
     "metadata": {},
     "output_type": "execute_result"
    }
   ],
   "source": [
    "modelgbc.score(test_x,test_y)"
   ]
  },
  {
   "cell_type": "markdown",
   "id": "8543a752",
   "metadata": {},
   "source": [
    "### Ada Boost Classifier"
   ]
  },
  {
   "cell_type": "code",
   "execution_count": 39,
   "id": "dfcfa4fd",
   "metadata": {},
   "outputs": [
    {
     "data": {
      "text/plain": [
       "AdaBoostClassifier(n_estimators=100, random_state=42)"
      ]
     },
     "execution_count": 39,
     "metadata": {},
     "output_type": "execute_result"
    }
   ],
   "source": [
    "modelabc = AdaBoostClassifier(n_estimators=100, random_state=42)\n",
    "modelabc.fit(train_x,train_y)"
   ]
  },
  {
   "cell_type": "code",
   "execution_count": 40,
   "id": "ee60a4ff",
   "metadata": {
    "scrolled": true
   },
   "outputs": [
    {
     "data": {
      "text/plain": [
       "0.7"
      ]
     },
     "execution_count": 40,
     "metadata": {},
     "output_type": "execute_result"
    }
   ],
   "source": [
    "modelabc.score(train_x,train_y)"
   ]
  },
  {
   "cell_type": "code",
   "execution_count": 41,
   "id": "03e86824",
   "metadata": {
    "scrolled": true
   },
   "outputs": [
    {
     "data": {
      "text/plain": [
       "0.73"
      ]
     },
     "execution_count": 41,
     "metadata": {},
     "output_type": "execute_result"
    }
   ],
   "source": [
    "modelabc.score(test_x,test_y)"
   ]
  },
  {
   "cell_type": "markdown",
   "id": "163f343b",
   "metadata": {},
   "source": [
    "### Make predictions\n",
    "\n",
    "Single Prediction"
   ]
  },
  {
   "cell_type": "code",
   "execution_count": 42,
   "id": "bf1ad337",
   "metadata": {},
   "outputs": [],
   "source": [
    "idx = 438 # random number\n",
    "single_test_x = [temp_df.iloc[idx].tolist()]\n",
    "single_test_y = df.iloc[idx]['orders']"
   ]
  },
  {
   "cell_type": "code",
   "execution_count": 43,
   "id": "5e573238",
   "metadata": {},
   "outputs": [
    {
     "name": "stdout",
     "output_type": "stream",
     "text": [
      "For this sample, our model predicted 0 and it was actually 0\n"
     ]
    }
   ],
   "source": [
    "single_predictions = modelrfc.predict(single_test_x)\n",
    "print('For this sample, our model predicted %s and it was actually %s' % (single_predictions[0], single_test_y))"
   ]
  },
  {
   "cell_type": "markdown",
   "id": "739d4ce6",
   "metadata": {},
   "source": [
    "Entire test set"
   ]
  },
  {
   "cell_type": "code",
   "execution_count": 44,
   "id": "fe247d1e",
   "metadata": {},
   "outputs": [],
   "source": [
    "predictions = modelrfc.predict(test_x)"
   ]
  },
  {
   "cell_type": "markdown",
   "id": "976e4570",
   "metadata": {},
   "source": [
    "I can create a dataframe to see these in table form:"
   ]
  },
  {
   "cell_type": "code",
   "execution_count": 45,
   "id": "358158ad",
   "metadata": {},
   "outputs": [
    {
     "data": {
      "text/html": [
       "<div>\n",
       "<style scoped>\n",
       "    .dataframe tbody tr th:only-of-type {\n",
       "        vertical-align: middle;\n",
       "    }\n",
       "\n",
       "    .dataframe tbody tr th {\n",
       "        vertical-align: top;\n",
       "    }\n",
       "\n",
       "    .dataframe thead th {\n",
       "        text-align: right;\n",
       "    }\n",
       "</style>\n",
       "<table border=\"1\" class=\"dataframe\">\n",
       "  <thead>\n",
       "    <tr style=\"text-align: right;\">\n",
       "      <th></th>\n",
       "      <th>true</th>\n",
       "      <th>predicted</th>\n",
       "    </tr>\n",
       "  </thead>\n",
       "  <tbody>\n",
       "    <tr>\n",
       "      <th>361</th>\n",
       "      <td>0</td>\n",
       "      <td>0</td>\n",
       "    </tr>\n",
       "    <tr>\n",
       "      <th>73</th>\n",
       "      <td>1</td>\n",
       "      <td>1</td>\n",
       "    </tr>\n",
       "    <tr>\n",
       "      <th>374</th>\n",
       "      <td>0</td>\n",
       "      <td>0</td>\n",
       "    </tr>\n",
       "    <tr>\n",
       "      <th>155</th>\n",
       "      <td>0</td>\n",
       "      <td>0</td>\n",
       "    </tr>\n",
       "  </tbody>\n",
       "</table>\n",
       "</div>"
      ],
      "text/plain": [
       "    true predicted\n",
       "361    0         0\n",
       "73     1         1\n",
       "374    0         0\n",
       "155    0         0"
      ]
     },
     "execution_count": 45,
     "metadata": {},
     "output_type": "execute_result"
    }
   ],
   "source": [
    "results_df = pd.DataFrame({\n",
    "    'true':test_y,\n",
    "    'predicted':predictions\n",
    "})\n",
    "results_df.head(4)"
   ]
  },
  {
   "cell_type": "markdown",
   "id": "611d960d",
   "metadata": {},
   "source": [
    "I can save the model using pickle library to use later in real-time"
   ]
  },
  {
   "cell_type": "code",
   "execution_count": 46,
   "id": "52520980",
   "metadata": {},
   "outputs": [],
   "source": [
    "filename = 'finalized_model.sav'\n",
    "pickle.dump(modelrfc, open(filename, 'wb'))"
   ]
  },
  {
   "cell_type": "markdown",
   "id": "96cba49d",
   "metadata": {},
   "source": [
    "## I am very much happy for this opportunity, I have given my best here to present and drive good insights of given dataset"
   ]
  }
 ],
 "metadata": {
  "kernelspec": {
   "display_name": "Python 3 (ipykernel)",
   "language": "python",
   "name": "python3"
  },
  "language_info": {
   "codemirror_mode": {
    "name": "ipython",
    "version": 3
   },
   "file_extension": ".py",
   "mimetype": "text/x-python",
   "name": "python",
   "nbconvert_exporter": "python",
   "pygments_lexer": "ipython3",
   "version": "3.9.7"
  }
 },
 "nbformat": 4,
 "nbformat_minor": 5
}
